{
 "cells": [
  {
   "cell_type": "code",
   "execution_count": 50,
   "metadata": {},
   "outputs": [],
   "source": [
    "import os\n",
    "import numpy as np\n",
    "\n",
    "# Provide the path to the overall experiment folder and the path where you would like the merged file to be saved\n",
    "folder_path = 'C:/Users/aewor/Documents/Python/EmanuelLabRotation/2024-01-05_ALC4_day3'\n",
    "output_path = 'C:/Users/aewor/Documents/Python/EmanuelLabRotation/merged_test'"
   ]
  },
  {
   "cell_type": "code",
   "execution_count": 58,
   "metadata": {},
   "outputs": [
    {
     "name": "stdout",
     "output_type": "stream",
     "text": [
      "175\n"
     ]
    }
   ],
   "source": [
    "#Empty list will contain filepaths of recordings that are to be concatenated\n",
    "files_to_concat = []\n",
    "\n",
    "#OpenEphys files will have subdirectories for every set of experimental recordings\n",
    "subdirectories = [item for item in os.listdir(folder_path) if os.path.isdir(os.path.join(folder_path, item))]\n",
    "subdirectories = sorted(subdirectories, key=lambda x: int(''.join(filter(str.isdigit, x))))\n",
    "\n",
    "for folder in subdirectories:\n",
    "    node_path = os.path.join(folder_path, folder, 'Record Node 101').replace('\\\\', '/')\n",
    "    if os.path.exists(node_path) and os.path.isdir(node_path):\n",
    "        #nodes in subdirectories may have more than one experiment file in them.\n",
    "        experiments = [item for item in os.listdir(node_path) if os.path.isdir(os.path.join(node_path, item))]\n",
    "        experiments = sorted(experiments, key=lambda x: int(''.join(filter(str.isdigit, x))))\n",
    "\n",
    "        if len(experiments) >= 1:\n",
    "            #Each of these experiment files can contain multiple recordings.\n",
    "            for experiment in experiments:\n",
    "                exp_path = os.path.join(node_path,experiment).replace('\\\\', '/')\n",
    "                recordings = [item for item in os.listdir(exp_path) if os.path.isdir(os.path.join(exp_path, item))]\n",
    "                recordings = sorted(recordings, key=lambda x: int(''.join(filter(str.isdigit, x))))\n",
    "\n",
    "            if len(recordings) >= 1:\n",
    "                for recording in recordings:\n",
    "                    recording_path = os.path.join(exp_path, recording,'continuous','Neuropix-PXI-100.ProbeA-AP','continuous.dat').replace('\\\\', '/')\n",
    "                    files_to_concat.append(recording_path)\n",
    "            else:\n",
    "                print(f\"No recording directories found in {exp_path}.\")\n",
    "        else:\n",
    "            print(f\"No experiment directories found in {node_path}.\")        \n",
    "    else:\n",
    "        print(f\"No 'Record Node 101' directory found in {os.path.join(folder_path, folder)}.\")\n",
    "\n",
    "print(len(files_to_concat))"
   ]
  },
  {
   "cell_type": "code",
   "execution_count": 59,
   "metadata": {},
   "outputs": [
    {
     "name": "stdout",
     "output_type": "stream",
     "text": [
      "Concatenation complete.\n"
     ]
    }
   ],
   "source": [
    "def openephys_concat (recording_filepaths, save_path):\n",
    "    raw_combined = open(os.path.join(save_path, 'combined_trial.DAT').replace('\\\\', '/'), 'wb')\n",
    "\n",
    "    for recording in recording_filepaths:\n",
    "        to_append = np.memmap(recording, mode='r')\n",
    "        to_append.tofile(raw_combined)\n",
    "            \n",
    "    raw_combined.close()\n",
    "    print('Concatenation complete.')\n",
    "\n",
    "openephys_concat(files_to_concat, output_path)"
   ]
  },
  {
   "cell_type": "code",
   "execution_count": 57,
   "metadata": {},
   "outputs": [],
   "source": [
    "## input list of continuous.DAT filepaths to be concatenated. Will save a concatenated version in specified save_path\n",
    "# def mne_concat (filepaths, save_path):\n",
    "#     raw_combined = None\n",
    "\n",
    "#     for path in filepaths:\n",
    "#         raw = mne.io.read_raw_openephys(path, preload=True)\n",
    "#         if raw_combined is None:\n",
    "#             raw_combined = raw\n",
    "#         else:\n",
    "#             raw_combined.append(raw)\n",
    "            \n",
    "#     raw_combined.save('{}/combined_dataset.fif'.format(output_path))"
   ]
  }
 ],
 "metadata": {
  "kernelspec": {
   "display_name": "open_ephys",
   "language": "python",
   "name": "python3"
  },
  "language_info": {
   "codemirror_mode": {
    "name": "ipython",
    "version": 3
   },
   "file_extension": ".py",
   "mimetype": "text/x-python",
   "name": "python",
   "nbconvert_exporter": "python",
   "pygments_lexer": "ipython3",
   "version": "3.12.0"
  }
 },
 "nbformat": 4,
 "nbformat_minor": 2
}
