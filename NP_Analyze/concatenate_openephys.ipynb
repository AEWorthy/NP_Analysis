{
 "cells": [
  {
   "cell_type": "code",
   "execution_count": 42,
   "metadata": {},
   "outputs": [],
   "source": [
    "import os\n",
    "import numpy as np\n",
    "\n",
    "# Provide the path to the overall experiment folder and the path where you would like the merged file to be saved\n",
    "dir = r\"D:\\2024-01-03_ALC4_day1\"\n",
    "data_path = os.path.join(dir, '02-processed')\n",
    "npy_path = os.path.join(dir, '00-npy files')\n",
    "raw_path = os.path.join(dir, '01-raw')\n",
    "\n",
    "output_path = raw_path\n"
   ]
  },
  {
   "cell_type": "code",
   "execution_count": 43,
   "metadata": {},
   "outputs": [
    {
     "name": "stdout",
     "output_type": "stream",
     "text": [
      "nan\n"
     ]
    },
    {
     "name": "stderr",
     "output_type": "stream",
     "text": [
      "c:\\Users\\aewor\\miniconda3\\envs\\open_ephys\\Lib\\site-packages\\numpy\\core\\fromnumeric.py:3504: RuntimeWarning: Mean of empty slice.\n",
      "  return _methods._mean(a, axis=axis, dtype=dtype,\n",
      "c:\\Users\\aewor\\miniconda3\\envs\\open_ephys\\Lib\\site-packages\\numpy\\core\\_methods.py:129: RuntimeWarning: invalid value encountered in scalar divide\n",
      "  ret = ret.dtype.type(ret / rcount)\n"
     ]
    }
   ],
   "source": [
    "#Empty list will contain filepaths of recordings that are to be concatenated\n",
    "mech_files = []\n",
    "\n",
    "#01-raw contains folders for every experiment\n",
    "experiments = [item for item in os.listdir(raw_path) if os.path.isdir(os.path.join(raw_path, item))]\n",
    "\n",
    "for experiment in experiments:\n",
    "\n",
    "    if experiment == '1-mechanical':\n",
    "        #files_to_concat.append(path)\n",
    "        recording_path = os.path.join(raw_path, experiment).replace('\\\\', '/')\n",
    "        recordings = [item for item in os.listdir(recording_path) if os.path.isdir(os.path.join(recording_path, item))]\n",
    "        recordings = sorted(recordings, key=lambda x: int(''.join(filter(str.isdigit, x))))\n",
    "\n",
    "        for recording in recordings:\n",
    "            path = os.path.join(recording_path, recording,'continuous','Neuropix-PXI-100.ProbeA-AP','continuous.dat').replace('\\\\', '/')\n",
    "            mech_files.append(path)\n",
    "    else:\n",
    "        pass\n",
    "\n",
    "sample_lengths = []\n",
    "for file in mech_files[1:26]:\n",
    "\n",
    "    try:\n",
    "        with open(file, 'rb') as file:\n",
    "            # Read the content of the binary file\n",
    "            file_content = file.read()\n",
    "            # Get the length of the binary data\n",
    "            sample_lengths.append(len(file_content))\n",
    "    except FileNotFoundError:\n",
    "        print(f\"File '{file}' not found.\")\n",
    "    except Exception as e:\n",
    "        print(f\"An error occurred: {e}\")\n",
    "\n",
    "print((np.mean(sample_lengths)/30000/385/2))"
   ]
  },
  {
   "cell_type": "code",
   "execution_count": 8,
   "metadata": {},
   "outputs": [
    {
     "name": "stdout",
     "output_type": "stream",
     "text": [
      "['1-mechanical', '2-acRecField', '3-physio', '4-5hz pulsed', '5-20hz pulsed', '6-40hz pulsed', 'unused']\n"
     ]
    },
    {
     "ename": "FileNotFoundError",
     "evalue": "[WinError 3] The system cannot find the path specified: 'D:/2024-01-04_ALC6_day2/01-raw/1-mechanical/Record Node 101'",
     "output_type": "error",
     "traceback": [
      "\u001b[1;31m---------------------------------------------------------------------------\u001b[0m",
      "\u001b[1;31mFileNotFoundError\u001b[0m                         Traceback (most recent call last)",
      "Cell \u001b[1;32mIn[8], line 14\u001b[0m\n\u001b[0;32m     11\u001b[0m \u001b[38;5;28;01mif\u001b[39;00m experiment \u001b[38;5;241m==\u001b[39m \u001b[38;5;124m'\u001b[39m\u001b[38;5;124m1-mechanical\u001b[39m\u001b[38;5;124m'\u001b[39m:\n\u001b[0;32m     12\u001b[0m     \u001b[38;5;66;03m#files_to_concat.append(path)\u001b[39;00m\n\u001b[0;32m     13\u001b[0m     recording_path \u001b[38;5;241m=\u001b[39m os\u001b[38;5;241m.\u001b[39mpath\u001b[38;5;241m.\u001b[39mjoin(raw_path, experiment, \u001b[38;5;124m'\u001b[39m\u001b[38;5;124mRecord Node 101\u001b[39m\u001b[38;5;124m'\u001b[39m)\u001b[38;5;241m.\u001b[39mreplace(\u001b[38;5;124m'\u001b[39m\u001b[38;5;130;01m\\\\\u001b[39;00m\u001b[38;5;124m'\u001b[39m, \u001b[38;5;124m'\u001b[39m\u001b[38;5;124m/\u001b[39m\u001b[38;5;124m'\u001b[39m)\n\u001b[1;32m---> 14\u001b[0m     recordings \u001b[38;5;241m=\u001b[39m [item \u001b[38;5;28;01mfor\u001b[39;00m item \u001b[38;5;129;01min\u001b[39;00m \u001b[43mos\u001b[49m\u001b[38;5;241;43m.\u001b[39;49m\u001b[43mlistdir\u001b[49m\u001b[43m(\u001b[49m\u001b[43mrecording_path\u001b[49m\u001b[43m)\u001b[49m \u001b[38;5;28;01mif\u001b[39;00m os\u001b[38;5;241m.\u001b[39mpath\u001b[38;5;241m.\u001b[39misdir(os\u001b[38;5;241m.\u001b[39mpath\u001b[38;5;241m.\u001b[39mjoin(recording_path, item))]\n\u001b[0;32m     15\u001b[0m     recordings \u001b[38;5;241m=\u001b[39m \u001b[38;5;28msorted\u001b[39m(recordings, key\u001b[38;5;241m=\u001b[39m\u001b[38;5;28;01mlambda\u001b[39;00m x: \u001b[38;5;28mint\u001b[39m(\u001b[38;5;124m'\u001b[39m\u001b[38;5;124m'\u001b[39m\u001b[38;5;241m.\u001b[39mjoin(\u001b[38;5;28mfilter\u001b[39m(\u001b[38;5;28mstr\u001b[39m\u001b[38;5;241m.\u001b[39misdigit, x))))\n\u001b[0;32m     17\u001b[0m     \u001b[38;5;28;01mfor\u001b[39;00m recording \u001b[38;5;129;01min\u001b[39;00m recordings:\n",
      "\u001b[1;31mFileNotFoundError\u001b[0m: [WinError 3] The system cannot find the path specified: 'D:/2024-01-04_ALC6_day2/01-raw/1-mechanical/Record Node 101'"
     ]
    }
   ],
   "source": [
    "#Empty list will contain filepaths of recordings that are to be concatenated\n",
    "files_to_concat = []\n",
    "\n",
    "#01-raw contains folders for every experiment\n",
    "experiments = [item for item in os.listdir(raw_path) if os.path.isdir(os.path.join(raw_path, item))]\n",
    "print(experiments)\n",
    "\n",
    "\n",
    "for experiment in experiments:\n",
    "    \n",
    "\n",
    "    if experiment == '1-mechanical':\n",
    "        #files_to_concat.append(path)\n",
    "        recording_path = os.path.join(raw_path, experiment, 'Record Node 101', 'experiment1').replace('\\\\', '/')\n",
    "        recordings = [item for item in os.listdir(recording_path) if os.path.isdir(os.path.join(recording_path, item))]\n",
    "        recordings = sorted(recordings, key=lambda x: int(''.join(filter(str.isdigit, x))))\n",
    "\n",
    "        for recording in recordings:\n",
    "            path = os.path.join(recording_path, recording,'continuous','Neuropix-PXI-100.ProbeA-AP','continuous.dat').replace('\\\\', '/')\n",
    "            files_to_concat.append(path)\n",
    "\n",
    "    elif experiment == '2-acRecField' or '3-physio' or '4-5hz pulsed' or '5-20hz pulsed' or '6-40hz pulsed':\n",
    "        path = os.path.join(raw_path, experiment, 'continuous', 'Neuropix-PXI-100.ProbeA-AP', 'continuous.dat').replace('\\\\', '/')\n",
    "        files_to_concat.append(path)\n",
    "    else:\n",
    "        print('Invalid experiment folder detected.')\n",
    "\n",
    "print(files_to_concat)\n",
    "print(len(files_to_concat))"
   ]
  },
  {
   "cell_type": "code",
   "execution_count": 59,
   "metadata": {},
   "outputs": [
    {
     "name": "stdout",
     "output_type": "stream",
     "text": [
      "Concatenation complete.\n"
     ]
    }
   ],
   "source": [
    "# input list of continuous.DAT filepaths to be concatenated. Will save a concatenated version in specified save_path.\n",
    "def openephys_concat (recording_filepaths, save_path):\n",
    "    raw_combined = open(os.path.join(save_path, 'combined_trial.DAT').replace('\\\\', '/'), 'wb')\n",
    "\n",
    "    for recording in recording_filepaths:\n",
    "        to_append = np.memmap(recording, mode='r')\n",
    "        to_append.tofile(raw_combined)\n",
    "            \n",
    "    raw_combined.close()\n",
    "    print('Concatenation complete.')\n",
    "\n",
    "openephys_concat(files_to_concat, output_path)"
   ]
  },
  {
   "cell_type": "code",
   "execution_count": null,
   "metadata": {},
   "outputs": [
    {
     "name": "stdout",
     "output_type": "stream",
     "text": [
      "175\n"
     ]
    }
   ],
   "source": [
    "#Use code below for default OpenEphys filenames and directory tree structure.\n",
    "\n",
    "# #Empty list will contain filepaths of recordings that are to be concatenated\n",
    "# files_to_concat = []\n",
    "\n",
    "# #OpenEphys files will have subdirectories for every set of experimental recordings\n",
    "# subdirectories = [item for item in os.listdir(folder_path) if os.path.isdir(os.path.join(folder_path, item))]\n",
    "# subdirectories = sorted(subdirectories, key=lambda x: int(''.join(filter(str.isdigit, x))))\n",
    "\n",
    "# for folder in subdirectories:\n",
    "#     node_path = os.path.join(folder_path, folder, 'Record Node 101').replace('\\\\', '/')\n",
    "#     if os.path.exists(node_path) and os.path.isdir(node_path):\n",
    "#         #nodes in subdirectories may have more than one experiment file in them.\n",
    "#         experiments = [item for item in os.listdir(node_path) if os.path.isdir(os.path.join(node_path, item))]\n",
    "#         experiments = sorted(experiments, key=lambda x: int(''.join(filter(str.isdigit, x))))\n",
    "\n",
    "#         if len(experiments) >= 1:\n",
    "#             #Each of these experiment files can contain multiple recordings.\n",
    "#             for experiment in experiments:\n",
    "#                 exp_path = os.path.join(node_path,experiment).replace('\\\\', '/')\n",
    "#                 recordings = [item for item in os.listdir(exp_path) if os.path.isdir(os.path.join(exp_path, item))]\n",
    "#                 recordings = sorted(recordings, key=lambda x: int(''.join(filter(str.isdigit, x))))\n",
    "\n",
    "#             if len(recordings) >= 1:\n",
    "#                 for recording in recordings:\n",
    "#                     recording_path = os.path.join(exp_path, recording,'continuous','Neuropix-PXI-100.ProbeA-AP','continuous.dat').replace('\\\\', '/')\n",
    "#                     files_to_concat.append(recording_path)\n",
    "#             else:\n",
    "#                 print(f\"No recording directories found in {exp_path}.\")\n",
    "#         else:\n",
    "#             print(f\"No experiment directories found in {node_path}.\")        \n",
    "#     else:\n",
    "#         print(f\"No 'Record Node 101' directory found in {os.path.join(folder_path, folder)}.\")\n",
    "\n",
    "# print(len(files_to_concat))"
   ]
  }
 ],
 "metadata": {
  "kernelspec": {
   "display_name": "open_ephys",
   "language": "python",
   "name": "python3"
  },
  "language_info": {
   "codemirror_mode": {
    "name": "ipython",
    "version": 3
   },
   "file_extension": ".py",
   "mimetype": "text/x-python",
   "name": "python",
   "nbconvert_exporter": "python",
   "pygments_lexer": "ipython3",
   "version": "3.12.0"
  }
 },
 "nbformat": 4,
 "nbformat_minor": 2
}
