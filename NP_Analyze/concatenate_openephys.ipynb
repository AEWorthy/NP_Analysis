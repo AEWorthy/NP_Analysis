{
 "cells": [
  {
   "cell_type": "code",
   "execution_count": 42,
   "metadata": {},
   "outputs": [],
   "source": [
    "import os\n",
    "import numpy as np\n",
    "\n",
    "# Provide the path to the overall experiment folder and the path where you would like the merged file to be saved\n",
    "dir = r\"D:\\2024-01-03_ALC4_day1\"\n",
    "data_path = os.path.join(dir, '02-processed')\n",
    "npy_path = os.path.join(dir, '00-npy files')\n",
    "raw_path = os.path.join(dir, '01-raw')\n",
    "\n",
    "output_path = dir#raw_path"
   ]
  },
  {
   "cell_type": "code",
   "execution_count": null,
   "metadata": {},
   "outputs": [],
   "source": [
    "#Use code below for default OpenEphys filenames and directory tree structure. \n",
    "# This block generates the list of filenames for files to be concatenated.\n",
    "# Feed files_to_concat into the concatenation block below.\n",
    "\n",
    "#Empty list will contain filepaths of recordings that are to be concatenated\n",
    "files_to_concat = []\n",
    "\n",
    "#OpenEphys files will have subdirectories for every set of experimental recordings\n",
    "subdirectories = [item for item in os.listdir(dir) if os.path.isdir(os.path.join(dir, item))]\n",
    "subdirectories = sorted(subdirectories, key=lambda x: int(''.join(filter(str.isdigit, x))))\n",
    "\n",
    "for folder in subdirectories:\n",
    "    node_path = os.path.join(dir, folder, 'Record Node 101').replace('\\\\', '/')\n",
    "    if os.path.exists(node_path) and os.path.isdir(node_path):\n",
    "        #nodes in subdirectories may have more than one experiment file in them.\n",
    "        experiments = [item for item in os.listdir(node_path) if os.path.isdir(os.path.join(node_path, item))]\n",
    "        experiments = sorted(experiments, key=lambda x: int(''.join(filter(str.isdigit, x))))\n",
    "\n",
    "        if len(experiments) >= 1:\n",
    "            #Each of these experiment files can contain multiple recordings.\n",
    "            for experiment in experiments:\n",
    "                exp_path = os.path.join(node_path,experiment).replace('\\\\', '/')\n",
    "                recordings = [item for item in os.listdir(exp_path) if os.path.isdir(os.path.join(exp_path, item))]\n",
    "                recordings = sorted(recordings, key=lambda x: int(''.join(filter(str.isdigit, x))))\n",
    "\n",
    "            if len(recordings) >= 1:\n",
    "                for recording in recordings:\n",
    "                    recording_path = os.path.join(exp_path, recording,'continuous','Neuropix-PXI-100.ProbeA-AP','continuous.dat').replace('\\\\', '/')\n",
    "                    files_to_concat.append(recording_path)\n",
    "            else:\n",
    "                print(f\"No recording directories found in {exp_path}.\")\n",
    "        else:\n",
    "            print(f\"No experiment directories found in {node_path}.\")        \n",
    "    else:\n",
    "        print(f\"No 'Record Node 101' directory found in {os.path.join(dir, folder)}.\")\n",
    "\n",
    "print(len(files_to_concat))"
   ]
  },
  {
   "cell_type": "code",
   "execution_count": null,
   "metadata": {},
   "outputs": [],
   "source": [
    "# # This block generates the list of filenames for files to be concatenated. Requires the data structure I used, so ignore it.\n",
    "# #Empty list will contain filepaths of recordings that are to be concatenated\n",
    "# files_to_concat = []\n",
    "\n",
    "# #01-raw contains folders for every experiment\n",
    "# experiments = [item for item in os.listdir(raw_path) if os.path.isdir(os.path.join(raw_path, item))]\n",
    "# print(experiments)\n",
    "\n",
    "\n",
    "# for experiment in experiments:\n",
    "    \n",
    "\n",
    "#     if experiment == '1-mechanical':\n",
    "#         #files_to_concat.append(path)\n",
    "#         recording_path = os.path.join(raw_path, experiment, 'Record Node 101', 'experiment1').replace('\\\\', '/')\n",
    "#         recordings = [item for item in os.listdir(recording_path) if os.path.isdir(os.path.join(recording_path, item))]\n",
    "#         recordings = sorted(recordings, key=lambda x: int(''.join(filter(str.isdigit, x))))\n",
    "\n",
    "#         for recording in recordings:\n",
    "#             path = os.path.join(recording_path, recording,'continuous','Neuropix-PXI-100.ProbeA-AP','continuous.dat').replace('\\\\', '/')\n",
    "#             files_to_concat.append(path)\n",
    "\n",
    "#     elif experiment == '2-acRecField' or '3-physio' or '4-5hz pulsed' or '5-20hz pulsed' or '6-40hz pulsed':\n",
    "#         path = os.path.join(raw_path, experiment, 'continuous', 'Neuropix-PXI-100.ProbeA-AP', 'continuous.dat').replace('\\\\', '/')\n",
    "#         files_to_concat.append(path)\n",
    "#     else:\n",
    "#         print('Invalid experiment folder detected.')\n",
    "\n",
    "# print(files_to_concat)\n",
    "# print(len(files_to_concat))"
   ]
  },
  {
   "cell_type": "code",
   "execution_count": 59,
   "metadata": {},
   "outputs": [
    {
     "name": "stdout",
     "output_type": "stream",
     "text": [
      "Concatenation complete.\n"
     ]
    }
   ],
   "source": [
    "# input list of continuous.DAT filepaths to be concatenated. Will save a concatenated version in specified save_path.\n",
    "def openephys_concat (recording_filepaths, save_path):\n",
    "    raw_combined = open(os.path.join(save_path, 'combined_trial.DAT').replace('\\\\', '/'), 'wb')\n",
    "\n",
    "    for recording in recording_filepaths:\n",
    "        to_append = np.memmap(recording, mode='r')\n",
    "        to_append.tofile(raw_combined)\n",
    "            \n",
    "    raw_combined.close()\n",
    "    print('Concatenation complete.')\n",
    "\n",
    "openephys_concat(files_to_concat, output_path)"
   ]
  },
  {
   "cell_type": "code",
   "execution_count": null,
   "metadata": {},
   "outputs": [],
   "source": [
    "#Ignore This\n",
    "#Empty list will contain filepaths of recordings that are to be concatenated\n",
    "mech_files = []\n",
    "\n",
    "#01-raw contains folders for every experiment\n",
    "experiments = [item for item in os.listdir(raw_path) if os.path.isdir(os.path.join(raw_path, item))]\n",
    "\n",
    "for experiment in experiments:\n",
    "\n",
    "    if experiment == '1-mechanical':\n",
    "        #files_to_concat.append(path)\n",
    "        recording_path = os.path.join(raw_path, experiment).replace('\\\\', '/')\n",
    "        recordings = [item for item in os.listdir(recording_path) if os.path.isdir(os.path.join(recording_path, item))]\n",
    "        recordings = sorted(recordings, key=lambda x: int(''.join(filter(str.isdigit, x))))\n",
    "\n",
    "        for recording in recordings:\n",
    "            path = os.path.join(recording_path, recording,'continuous','Neuropix-PXI-100.ProbeA-AP','continuous.dat').replace('\\\\', '/')\n",
    "            mech_files.append(path)\n",
    "    else:\n",
    "        pass\n",
    "\n",
    "sample_lengths = []\n",
    "for file in mech_files[1:26]:\n",
    "\n",
    "    try:\n",
    "        with open(file, 'rb') as file:\n",
    "            # Read the content of the binary file\n",
    "            file_content = file.read()\n",
    "            # Get the length of the binary data\n",
    "            sample_lengths.append(len(file_content))\n",
    "    except FileNotFoundError:\n",
    "        print(f\"File '{file}' not found.\")\n",
    "    except Exception as e:\n",
    "        print(f\"An error occurred: {e}\")\n",
    "\n",
    "print((np.mean(sample_lengths)/30000/385/2))"
   ]
  }
 ],
 "metadata": {
  "kernelspec": {
   "display_name": "open_ephys",
   "language": "python",
   "name": "python3"
  },
  "language_info": {
   "codemirror_mode": {
    "name": "ipython",
    "version": 3
   },
   "file_extension": ".py",
   "mimetype": "text/x-python",
   "name": "python",
   "nbconvert_exporter": "python",
   "pygments_lexer": "ipython3",
   "version": "3.12.0"
  }
 },
 "nbformat": 4,
 "nbformat_minor": 2
}
